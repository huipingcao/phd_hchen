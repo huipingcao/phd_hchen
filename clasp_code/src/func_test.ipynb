{
 "cells": [
  {
   "cell_type": "code",
   "execution_count": 2,
   "metadata": {},
   "outputs": [],
   "source": [
    "import numpy as np\n",
    "# Compute the one-dimensional discrete Fourier Transform\n",
    "import numpy.fft as fft\n",
    "import pandas as pd\n",
    "\n",
    "from queue import PriorityQueue\n",
    "from numba import njit\n",
    "\n",
    "from sklearn.metrics.pairwise import paired_euclidean_distances\n",
    "from clasp import extract_clasp_cps\n",
    "\n",
    "# the sliding windows for a time series and a window size\n",
    "def sliding_window(ts, window):\n",
    "    shape = ts.shape[:-1] + (ts.shape[-1] - window + 1, window)\n",
    "    strides = ts.strides + (ts.strides[-1],)\n",
    "    return np.lib.stride_tricks.as_strided(ts, shape=shape, strides=strides)\n",
    "\n",
    "\n",
    "# the sliding dot product between a query subsequence and a time series\n",
    "def slidingDotProduct(query, ts):\n",
    "    m = len(query)\n",
    "    n = len(ts)\n",
    "\n",
    "    ts_add = 0\n",
    "    if n % 2 == 1:\n",
    "        ts = np.insert(ts, 0, 0)\n",
    "        ts_add = 1\n",
    "\n",
    "    q_add = 0\n",
    "    if m % 2 == 1:\n",
    "        query = np.insert(query, 0, 0)\n",
    "        q_add = 1\n",
    "\n",
    "    query = query[::-1]\n",
    "    query = np.pad(query, (0, n - m + ts_add - q_add), 'constant')\n",
    "    trim = m - 1 + ts_add\n",
    "    dot_product = fft.irfft(fft.rfft(ts) * fft.rfft(query))\n",
    "    return dot_product[trim:]\n",
    "\n",
    "\n",
    "# the sliding mean and std for a time series and a window size\n",
    "def sliding_mean_std(TS, m):\n",
    "    s = np.insert(np.cumsum(TS), 0, 0)\n",
    "    sSq = np.insert(np.cumsum(TS ** 2), 0, 0)\n",
    "    segSum = s[m:] - s[:-m]\n",
    "    segSumSq = sSq[m:] - sSq[:-m]\n",
    "    movmean = segSum / m\n",
    "    movstd = np.sqrt(segSumSq / m - (segSum / m) ** 2)\n",
    "    return [movmean, movstd]"
   ]
  },
  {
   "cell_type": "code",
   "execution_count": null,
   "metadata": {},
   "outputs": [],
   "source": []
  },
  {
   "cell_type": "code",
   "execution_count": 23,
   "metadata": {},
   "outputs": [],
   "source": [
    "# Done\n",
    "# kNN indices with dot-product / no-loops for a time series, a window size and k neighbours\n",
    "def compute_distances_iterative(TS, m, k):\n",
    "    l = len(TS) - m + 1\n",
    "    knns = np.zeros(shape=(l, k), dtype=np.int64)\n",
    "\n",
    "    dot_prev = None\n",
    "    means, stds = sliding_mean_std(TS, m)\n",
    "    print('Means:', means)\n",
    "    print('Stds:', stds)\n",
    "\n",
    "    for order in range(0, l):\n",
    "        # first iteration O(n log n)\n",
    "        if order == 0:\n",
    "            dot_first = slidingDotProduct(TS[:m], TS)\n",
    "            # dot_first = np.dot(X[order,:], X.T)\n",
    "            dot_rolled = dot_first\n",
    "            print('dot_first:', dot_first)\n",
    "        # O(1) further operations\n",
    "        else:\n",
    "            dot_rolled = np.roll(dot_prev, 1) + TS[order + m - 1] * TS[m - 1:l + m] - TS[order - 1] * np.roll(TS[:l], 1)\n",
    "            dot_rolled[0] = dot_first[order]\n",
    "\n",
    "        x_mean = means[order]\n",
    "        x_std = stds[order]\n",
    "\n",
    "        dist = 2 * m * (1 - (dot_rolled - m * means * x_mean) / (m * stds * x_std))\n",
    "\n",
    "        # self-join: exclusion zone\n",
    "        trivialMatchRange = (int(max(0, order - np.round(m / 2, 0))), int(min(order + np.round(m / 2 + 1, 0), l)))\n",
    "        dist[trivialMatchRange[0]:trivialMatchRange[1]] = np.inf\n",
    "\n",
    "        idx = np.argpartition(dist, k)\n",
    "\n",
    "        knns[order, :] = idx[:k]\n",
    "        dot_prev = dot_rolled\n",
    "\n",
    "    return knns"
   ]
  },
  {
   "cell_type": "code",
   "execution_count": 24,
   "metadata": {},
   "outputs": [
    {
     "name": "stdout",
     "output_type": "stream",
     "text": [
      "Means: [1.5 2.5 2.  3.  5.5 4.5 2.5]\n",
      "Stds: [0.5 0.5 1.  2.  0.5 1.5 0.5]\n",
      "dot_first: [ 5.  8.  5. 11. 17. 12.  7.]\n",
      "[[3 4]\n",
      " [3 4]\n",
      " [5 6]\n",
      " [0 1]\n",
      " [0 1]\n",
      " [2 1]\n",
      " [2 1]]\n"
     ]
    }
   ],
   "source": [
    "TS = np.array([1,2,3,1,5,6,3,2])\n",
    "m = 2\n",
    "k = 2\n",
    "knns = compute_distances_iterative(TS, m, k)\n",
    "print(knns)"
   ]
  },
  {
   "cell_type": "code",
   "execution_count": null,
   "metadata": {},
   "outputs": [],
   "source": []
  },
  {
   "cell_type": "markdown",
   "metadata": {},
   "source": [
    "### Experiment for idea: distribution"
   ]
  },
  {
   "cell_type": "markdown",
   "metadata": {},
   "source": [
    "#### Step 1: Compute knn_mask of each window with only left part of a certain window index "
   ]
  },
  {
   "cell_type": "code",
   "execution_count": 25,
   "metadata": {},
   "outputs": [],
   "source": [
    "# kNN indices with dot-product / no-loops for a time series, a window size and k neighbours\n",
    "def compute_distances_iterative_left(TS, m, k):\n",
    "    l = len(TS) - m + 1\n",
    "    knns = np.zeros(shape=(l, k), dtype=np.int64)\n",
    "\n",
    "    dot_prev = None\n",
    "    means, stds = sliding_mean_std(TS, m)\n",
    "    #print('Means:', means)\n",
    "    #print('Stds:', stds)\n",
    "\n",
    "    # modified part\n",
    "    for order in range(0, l):\n",
    "        # first iteration O(n log n)\n",
    "        if order == 0:\n",
    "            dot_first = slidingDotProduct(TS[:m], TS[:m])\n",
    "            # dot_first = np.dot(X[order,:], X.T)\n",
    "            dot_rolled = dot_first\n",
    "        # O(1) further operations\n",
    "        else:\n",
    "            dot_rolled = np.roll(dot_prev, 1) + TS[order + m - 1] * TS[m - 1:order + m] - TS[order - 1] * np.roll(TS[:order], 1)\n",
    "            dot_rolled[0] = dot_first[order]\n",
    "\n",
    "        x_mean = means[order]\n",
    "        x_std = stds[order]\n",
    "\n",
    "        dist = 2 * m * (1 - (dot_rolled - m * means * x_mean) / (m * stds * x_std))\n",
    "\n",
    "        # self-join: exclusion zone\n",
    "        trivialMatchRange = (int(max(0, order - np.round(m / 2, 0))), int(min(order + np.round(m / 2 + 1, 0), l)))\n",
    "        dist[trivialMatchRange[0]:trivialMatchRange[1]] = np.inf\n",
    "\n",
    "        idx = np.argpartition(dist, k)\n",
    "\n",
    "        knns[order, :] = idx[:k]\n",
    "        dot_prev = dot_rolled\n",
    "\n",
    "    return knns"
   ]
  },
  {
   "cell_type": "code",
   "execution_count": 26,
   "metadata": {},
   "outputs": [
    {
     "ename": "IndexError",
     "evalue": "index 1 is out of bounds for axis 0 with size 1",
     "output_type": "error",
     "traceback": [
      "\u001b[0;31m---------------------------------------------------------------------------\u001b[0m",
      "\u001b[0;31mIndexError\u001b[0m                                Traceback (most recent call last)",
      "\u001b[0;32m<ipython-input-26-ae0d3ef6ccfb>\u001b[0m in \u001b[0;36m<module>\u001b[0;34m\u001b[0m\n\u001b[1;32m      2\u001b[0m \u001b[0mm\u001b[0m \u001b[0;34m=\u001b[0m \u001b[0;36m2\u001b[0m\u001b[0;34m\u001b[0m\u001b[0;34m\u001b[0m\u001b[0m\n\u001b[1;32m      3\u001b[0m \u001b[0mk\u001b[0m \u001b[0;34m=\u001b[0m \u001b[0;36m2\u001b[0m\u001b[0;34m\u001b[0m\u001b[0;34m\u001b[0m\u001b[0m\n\u001b[0;32m----> 4\u001b[0;31m \u001b[0mknns_left\u001b[0m \u001b[0;34m=\u001b[0m \u001b[0mcompute_distances_iterative_left\u001b[0m\u001b[0;34m(\u001b[0m\u001b[0mTS\u001b[0m\u001b[0;34m,\u001b[0m \u001b[0mm\u001b[0m\u001b[0;34m,\u001b[0m \u001b[0mk\u001b[0m\u001b[0;34m)\u001b[0m\u001b[0;34m\u001b[0m\u001b[0;34m\u001b[0m\u001b[0m\n\u001b[0m\u001b[1;32m      5\u001b[0m \u001b[0mprint\u001b[0m\u001b[0;34m(\u001b[0m\u001b[0mknns_left\u001b[0m\u001b[0;34m)\u001b[0m\u001b[0;34m\u001b[0m\u001b[0;34m\u001b[0m\u001b[0m\n",
      "\u001b[0;32m<ipython-input-25-6401047ce9a5>\u001b[0m in \u001b[0;36mcompute_distances_iterative_left\u001b[0;34m(TS, m, k)\u001b[0m\n\u001b[1;32m     19\u001b[0m         \u001b[0;32melse\u001b[0m\u001b[0;34m:\u001b[0m\u001b[0;34m\u001b[0m\u001b[0;34m\u001b[0m\u001b[0m\n\u001b[1;32m     20\u001b[0m             \u001b[0mdot_rolled\u001b[0m \u001b[0;34m=\u001b[0m \u001b[0mnp\u001b[0m\u001b[0;34m.\u001b[0m\u001b[0mroll\u001b[0m\u001b[0;34m(\u001b[0m\u001b[0mdot_prev\u001b[0m\u001b[0;34m,\u001b[0m \u001b[0;36m1\u001b[0m\u001b[0;34m)\u001b[0m \u001b[0;34m+\u001b[0m \u001b[0mTS\u001b[0m\u001b[0;34m[\u001b[0m\u001b[0morder\u001b[0m \u001b[0;34m+\u001b[0m \u001b[0mm\u001b[0m \u001b[0;34m-\u001b[0m \u001b[0;36m1\u001b[0m\u001b[0;34m]\u001b[0m \u001b[0;34m*\u001b[0m \u001b[0mTS\u001b[0m\u001b[0;34m[\u001b[0m\u001b[0mm\u001b[0m \u001b[0;34m-\u001b[0m \u001b[0;36m1\u001b[0m\u001b[0;34m:\u001b[0m\u001b[0morder\u001b[0m \u001b[0;34m+\u001b[0m \u001b[0mm\u001b[0m\u001b[0;34m]\u001b[0m \u001b[0;34m-\u001b[0m \u001b[0mTS\u001b[0m\u001b[0;34m[\u001b[0m\u001b[0morder\u001b[0m \u001b[0;34m-\u001b[0m \u001b[0;36m1\u001b[0m\u001b[0;34m]\u001b[0m \u001b[0;34m*\u001b[0m \u001b[0mnp\u001b[0m\u001b[0;34m.\u001b[0m\u001b[0mroll\u001b[0m\u001b[0;34m(\u001b[0m\u001b[0mTS\u001b[0m\u001b[0;34m[\u001b[0m\u001b[0;34m:\u001b[0m\u001b[0morder\u001b[0m\u001b[0;34m]\u001b[0m\u001b[0;34m,\u001b[0m \u001b[0;36m1\u001b[0m\u001b[0;34m)\u001b[0m\u001b[0;34m\u001b[0m\u001b[0;34m\u001b[0m\u001b[0m\n\u001b[0;32m---> 21\u001b[0;31m             \u001b[0mdot_rolled\u001b[0m\u001b[0;34m[\u001b[0m\u001b[0;36m0\u001b[0m\u001b[0;34m]\u001b[0m \u001b[0;34m=\u001b[0m \u001b[0mdot_first\u001b[0m\u001b[0;34m[\u001b[0m\u001b[0morder\u001b[0m\u001b[0;34m]\u001b[0m\u001b[0;34m\u001b[0m\u001b[0;34m\u001b[0m\u001b[0m\n\u001b[0m\u001b[1;32m     22\u001b[0m \u001b[0;34m\u001b[0m\u001b[0m\n\u001b[1;32m     23\u001b[0m         \u001b[0mx_mean\u001b[0m \u001b[0;34m=\u001b[0m \u001b[0mmeans\u001b[0m\u001b[0;34m[\u001b[0m\u001b[0morder\u001b[0m\u001b[0;34m]\u001b[0m\u001b[0;34m\u001b[0m\u001b[0;34m\u001b[0m\u001b[0m\n",
      "\u001b[0;31mIndexError\u001b[0m: index 1 is out of bounds for axis 0 with size 1"
     ]
    }
   ],
   "source": [
    "TS = np.array([1,2,3,1,5,6,3,2])\n",
    "m = 2\n",
    "k = 2\n",
    "knns_left = compute_distances_iterative_left(TS, m, k)\n",
    "print(knns_left)"
   ]
  },
  {
   "cell_type": "code",
   "execution_count": null,
   "metadata": {},
   "outputs": [],
   "source": []
  },
  {
   "cell_type": "code",
   "execution_count": null,
   "metadata": {},
   "outputs": [],
   "source": []
  },
  {
   "cell_type": "code",
   "execution_count": null,
   "metadata": {},
   "outputs": [],
   "source": []
  },
  {
   "cell_type": "code",
   "execution_count": null,
   "metadata": {},
   "outputs": [],
   "source": []
  },
  {
   "cell_type": "code",
   "execution_count": null,
   "metadata": {},
   "outputs": [],
   "source": []
  },
  {
   "cell_type": "code",
   "execution_count": null,
   "metadata": {},
   "outputs": [],
   "source": []
  }
 ],
 "metadata": {
  "kernelspec": {
   "display_name": "Python 3",
   "language": "python",
   "name": "python3"
  },
  "language_info": {
   "codemirror_mode": {
    "name": "ipython",
    "version": 3
   },
   "file_extension": ".py",
   "mimetype": "text/x-python",
   "name": "python",
   "nbconvert_exporter": "python",
   "pygments_lexer": "ipython3",
   "version": "3.8.5"
  }
 },
 "nbformat": 4,
 "nbformat_minor": 4
}
